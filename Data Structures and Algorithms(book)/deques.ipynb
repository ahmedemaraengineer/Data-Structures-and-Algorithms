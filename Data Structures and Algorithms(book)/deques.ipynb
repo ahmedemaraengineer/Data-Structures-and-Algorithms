{
 "cells": [
  {
   "cell_type": "markdown",
   "id": "cd5eb137-d629-45d8-9c4f-d70b843876f1",
   "metadata": {},
   "source": [
    "# 3- Deques ,Pronounced (\"Deck\") \n",
    "* unrestrictive nature of adding and removing items.\n",
    "* New items can be added at either the front or the rear\n",
    "* Likewise, existing items can be removed from either end"
   ]
  },
  {
   "cell_type": "code",
   "execution_count": 1,
   "id": "27860f32-9d66-46aa-880a-bbd474f46a7c",
   "metadata": {},
   "outputs": [],
   "source": [
    "class Deque:\n",
    "    def __init__(self):\n",
    "        self.items = []\n",
    "        \n",
    "    def is_empty(self):\n",
    "        return self.items == []\n",
    "    \n",
    "    def add_front(self, item):\n",
    "        self.items.append(item)\n",
    "        \n",
    "    def add_rear(self, item):\n",
    "        self.items.insert(0, item)\n",
    "        \n",
    "    def remove_front(self):\n",
    "        return self.items.pop()\n",
    "    \n",
    "    def remove_rear(self):\n",
    "        return self.items.pop(0)\n",
    "    \n",
    "    def size(self):\n",
    "        return len(self.items)\n",
    "    \n",
    "    def print_deque(self):\n",
    "        return self.items"
   ]
  },
  {
   "cell_type": "markdown",
   "id": "d2b4e673-df58-4543-9045-0978405672dc",
   "metadata": {},
   "source": [
    "## Implementation- The Palindrome Checker"
   ]
  },
  {
   "cell_type": "code",
   "execution_count": 6,
   "id": "10b4d689-8c97-4e8e-9e27-895991ca8aae",
   "metadata": {},
   "outputs": [],
   "source": [
    "def pal_checker(a_string):\n",
    "    d = Deque()\n",
    "    s = list(a_string)\n",
    "    d.add_front(s[0])\n",
    "    for i in range(1, len(s)):\n",
    "        d.add_rear(s[i])\n",
    "        \n",
    "    if d.print_deque() == s:\n",
    "        return True\n",
    "    else:\n",
    "        return False"
   ]
  },
  {
   "cell_type": "code",
   "execution_count": 7,
   "id": "e30dfff0-f9b0-4dac-98f6-b15dc141cc6c",
   "metadata": {},
   "outputs": [
    {
     "data": {
      "text/plain": [
       "True"
      ]
     },
     "execution_count": 7,
     "metadata": {},
     "output_type": "execute_result"
    }
   ],
   "source": [
    "pal_checker('radar')"
   ]
  },
  {
   "cell_type": "code",
   "execution_count": 11,
   "id": "99faa63d-d8fd-4c38-af72-a93108b955ca",
   "metadata": {},
   "outputs": [],
   "source": [
    "a = 123"
   ]
  },
  {
   "cell_type": "code",
   "execution_count": 12,
   "id": "c13a6a42-94d4-4b34-8fcb-e985a113714c",
   "metadata": {},
   "outputs": [],
   "source": [
    "b = []"
   ]
  },
  {
   "cell_type": "code",
   "execution_count": 16,
   "id": "40b0d2e1-d486-4a45-baa3-8f8faa34c290",
   "metadata": {},
   "outputs": [
    {
     "data": {
      "text/plain": [
       "1"
      ]
     },
     "execution_count": 16,
     "metadata": {},
     "output_type": "execute_result"
    }
   ],
   "source": [
    "a // 100"
   ]
  },
  {
   "cell_type": "code",
   "execution_count": 18,
   "id": "eae8d542-c9d4-449b-a563-c4160dcc01ec",
   "metadata": {},
   "outputs": [
    {
     "data": {
      "text/plain": [
       "3"
      ]
     },
     "execution_count": 18,
     "metadata": {},
     "output_type": "execute_result"
    }
   ],
   "source": [
    "a % 120"
   ]
  },
  {
   "cell_type": "code",
   "execution_count": 19,
   "id": "390a10c1-4148-46fc-bb62-e12c2a8521ad",
   "metadata": {},
   "outputs": [
    {
     "data": {
      "text/plain": [
       "3"
      ]
     },
     "execution_count": 19,
     "metadata": {},
     "output_type": "execute_result"
    }
   ],
   "source": [
    "123 % 10"
   ]
  },
  {
   "cell_type": "code",
   "execution_count": null,
   "id": "4e7d9858-11e8-4bea-94b4-e59545dcb19a",
   "metadata": {},
   "outputs": [],
   "source": []
  }
 ],
 "metadata": {
  "kernelspec": {
   "display_name": "Python 3",
   "language": "python",
   "name": "python3"
  },
  "language_info": {
   "codemirror_mode": {
    "name": "ipython",
    "version": 3
   },
   "file_extension": ".py",
   "mimetype": "text/x-python",
   "name": "python",
   "nbconvert_exporter": "python",
   "pygments_lexer": "ipython3",
   "version": "3.8.8"
  }
 },
 "nbformat": 4,
 "nbformat_minor": 5
}
