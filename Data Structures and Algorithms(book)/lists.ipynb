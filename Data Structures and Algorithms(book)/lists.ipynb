{
 "cells": [
  {
   "cell_type": "markdown",
   "id": "ce7c420f-e361-4519-a78e-f5d9c4819a93",
   "metadata": {},
   "source": [
    "# 3- Lists\n",
    "### 1- The Unordered List Abstract Data Type\n",
    "* a collection of items where each item holds a relative position with respect to the others\n",
    "\n",
    "#### a- The Node Class\n",
    "* the basic building block for the linked list \n",
    "* each node must hold at least two pieces of information \n",
    "  * the item itself (data field)\n",
    "  * a reference to the next node"
   ]
  },
  {
   "cell_type": "code",
   "execution_count": 15,
   "id": "e0b39307-ae36-47d4-8225-b1af0bbb6000",
   "metadata": {},
   "outputs": [],
   "source": [
    "class Node:\n",
    "    def __init__(self, init_data):\n",
    "        self.data = init_data\n",
    "        self.next = None\n",
    "        \n",
    "    def get_data(self):\n",
    "        return self.data\n",
    "    \n",
    "    def get_next(self):\n",
    "        return self.next\n",
    "    \n",
    "    def set_data(self, new_data):\n",
    "        self.data = new_data\n",
    "        \n",
    "    def set_next(self, new_next):\n",
    "        self.next = new_next"
   ]
  },
  {
   "cell_type": "code",
   "execution_count": 16,
   "id": "177035d3-fbbb-4b35-b983-a39663f9c605",
   "metadata": {},
   "outputs": [],
   "source": [
    "class UnorderedList:\n",
    "    def __init__(self):\n",
    "        self.head = None\n",
    "        # Uptill now the unordered list class returns an empty list\n",
    "        # because the head(the first node in the class) is None\n",
    "    \n",
    "    def is_empty(self):\n",
    "        return self.head == None\n",
    "    \n",
    "    # we need to add items in this unordered list\n",
    "    # the specific location of the new item is not important , the new item can gow anywhere \n",
    "    # the only way to specify the order of the list is by the next pointer\n",
    "    # that points from a node to another\n",
    "    def add(self, item):  \n",
    "        temp = Node(item)\n",
    "        temp.set_next(self.head)\n",
    "        self.head = temp \n",
    "        \n",
    "    def size(self):\n",
    "        current = self.head\n",
    "        count = 0\n",
    "        while current != None:\n",
    "            count += 1\n",
    "            current = current.get_next()\n",
    "            \n",
    "        return count\n",
    "    \n",
    "    def search(self, item):\n",
    "        current = self.head\n",
    "        found = False\n",
    "        while current != None and not found:\n",
    "            if current.get_data() == item:\n",
    "                found = True\n",
    "            else:\n",
    "                current = current.get_next()\n",
    "        return found        \n",
    "    \n",
    "    def remove(self, item):\n",
    "        current = self.head\n",
    "        previous = None\n",
    "        found = False\n",
    "        while not found:\n",
    "            if current.get_data() == item:\n",
    "                found = True\n",
    "            else:\n",
    "                previous = current\n",
    "                current = current.get_next()\n",
    "        if previous == None:\n",
    "            self.head = current.get_next()\n",
    "            \n",
    "        else:\n",
    "            previous.set_next(current.get_next())\n",
    "            \n",
    "    def print_list(self):\n",
    "        a = []\n",
    "        current = self.head\n",
    "        while current is not None:\n",
    "            nxt = current.get_next()\n",
    "            a.append(current.data)\n",
    "            current = current.get_next()\n",
    "            \n",
    "        return a    \n",
    "        "
   ]
  },
  {
   "cell_type": "code",
   "execution_count": 17,
   "id": "d3c6335b-7f4c-450c-987a-123dd019547a",
   "metadata": {},
   "outputs": [
    {
     "data": {
      "text/plain": [
       "[2, 3, 4, 5]"
      ]
     },
     "execution_count": 17,
     "metadata": {},
     "output_type": "execute_result"
    }
   ],
   "source": [
    "ls = UnorderedList()\n",
    "ls.add(5)\n",
    "ls.add(4)\n",
    "ls.add(3)\n",
    "ls.add(2)\n",
    "ls.print_list()"
   ]
  },
  {
   "cell_type": "code",
   "execution_count": 18,
   "id": "d1833175-5853-4464-b326-c3a9e70c1712",
   "metadata": {},
   "outputs": [
    {
     "data": {
      "text/plain": [
       "[3, 4, 5]"
      ]
     },
     "execution_count": 18,
     "metadata": {},
     "output_type": "execute_result"
    }
   ],
   "source": [
    "ls.remove(2)\n",
    "ls.print_list()"
   ]
  },
  {
   "cell_type": "code",
   "execution_count": 19,
   "id": "31fd5349-6e16-4d38-a338-cdf9d1e370fb",
   "metadata": {},
   "outputs": [
    {
     "data": {
      "text/plain": [
       "False"
      ]
     },
     "execution_count": 19,
     "metadata": {},
     "output_type": "execute_result"
    }
   ],
   "source": [
    "ls.search(2)"
   ]
  },
  {
   "cell_type": "code",
   "execution_count": 20,
   "id": "81dc6024-8613-4c2f-892f-769bcb03cd0b",
   "metadata": {},
   "outputs": [
    {
     "data": {
      "text/plain": [
       "3"
      ]
     },
     "execution_count": 20,
     "metadata": {},
     "output_type": "execute_result"
    }
   ],
   "source": [
    "ls.size()"
   ]
  },
  {
   "cell_type": "markdown",
   "id": "02ba73d0-0a2e-462f-9091-cd82a0516803",
   "metadata": {},
   "source": [
    "### 2- The Ordered List Abstract Data Type\n",
    "* The structure of an ordered list is a collection of items where each item holds a relative position\n",
    "  that is based upon some underlying characteristic of the item.\n",
    "* The ordering is typically either\n",
    "  ascending or descending  "
   ]
  },
  {
   "cell_type": "code",
   "execution_count": 23,
   "id": "2845ce51-6ad6-43ac-b1d0-10dcefbea794",
   "metadata": {},
   "outputs": [],
   "source": [
    "class OrderedList:\n",
    "    def __init__(self):\n",
    "        self.head = None\n",
    "   \n",
    "    def is_empty(self):\n",
    "        return self.head == None\n",
    "    \n",
    "    # we need to add items in this unordered list\n",
    "    # the specific location of the new item is not important , the new item can gow anywhere \n",
    "    # the only way to specify the order of the list is by the next pointer\n",
    "    # that points from a node to another\n",
    "    def add(self, item):  \n",
    "        temp = Node(item)\n",
    "        temp.set_next(self.head)\n",
    "        self.head = temp \n",
    "        \n",
    "    def size(self):\n",
    "        current = self.head\n",
    "        count = 0\n",
    "        while current != None:\n",
    "            count += 1\n",
    "            current = current.get_next()\n",
    "            \n",
    "    def search(self, item):\n",
    "        current = self.head\n",
    "        found = False\n",
    "        stop = False\n",
    "        \n",
    "        while current != None and not found and not stop:\n",
    "            if current.get_data() == item:\n",
    "                found = True\n",
    "            else:\n",
    "                if current.get_data() > item:\n",
    "                    stop = True\n",
    "                else:\n",
    "                    current = current.get_next()\n",
    "        return found            \n",
    "    \n",
    "    def add(self, item):\n",
    "        current = self.head\n",
    "        previous = None\n",
    "        stop = False\n",
    "        while current != None and not stop:\n",
    "            if current.get_data() > item:\n",
    "                stop = True\n",
    "            else:\n",
    "                previous = current\n",
    "                current = current.get_next()\n",
    "        temp = Node(item)\n",
    "        if previous == None:\n",
    "            temp.set_next(self.head)\n",
    "            self.head = temp\n",
    "        else:\n",
    "            temp.set_next(current)\n",
    "            previous.set_next(temp)\n",
    "            \n",
    "    def print_list(self):\n",
    "        a = []\n",
    "        current = self.head\n",
    "        while current is not None:\n",
    "            nxt = current.get_next()\n",
    "            a.append(current.data)\n",
    "            current = current.get_next()\n",
    "            \n",
    "        return a                "
   ]
  },
  {
   "cell_type": "code",
   "execution_count": 24,
   "id": "83e6db53-d887-4c0e-91d9-df49a4ffb2d3",
   "metadata": {},
   "outputs": [],
   "source": [
    "ols = OrderedList()\n",
    "ols.add(1)\n",
    "ols.add(5)\n",
    "ols.add(4)\n",
    "ols.add(2)"
   ]
  },
  {
   "cell_type": "code",
   "execution_count": 25,
   "id": "30a1430b-75cf-4cf9-a3fc-8f1183418975",
   "metadata": {},
   "outputs": [
    {
     "data": {
      "text/plain": [
       "[1, 2, 4, 5]"
      ]
     },
     "execution_count": 25,
     "metadata": {},
     "output_type": "execute_result"
    }
   ],
   "source": [
    "ols.print_list()"
   ]
  },
  {
   "cell_type": "code",
   "execution_count": null,
   "id": "22dfb387-4e71-4291-b092-8ad73671a738",
   "metadata": {},
   "outputs": [],
   "source": []
  },
  {
   "cell_type": "code",
   "execution_count": null,
   "id": "2db92355-0f7a-4c07-ab18-f8327f20258c",
   "metadata": {},
   "outputs": [],
   "source": []
  }
 ],
 "metadata": {
  "kernelspec": {
   "display_name": "Python 3",
   "language": "python",
   "name": "python3"
  },
  "language_info": {
   "codemirror_mode": {
    "name": "ipython",
    "version": 3
   },
   "file_extension": ".py",
   "mimetype": "text/x-python",
   "name": "python",
   "nbconvert_exporter": "python",
   "pygments_lexer": "ipython3",
   "version": "3.8.8"
  }
 },
 "nbformat": 4,
 "nbformat_minor": 5
}
