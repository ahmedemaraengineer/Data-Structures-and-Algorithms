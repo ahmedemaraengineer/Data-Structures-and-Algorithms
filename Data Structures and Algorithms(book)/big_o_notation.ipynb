{
 "cells": [
  {
   "cell_type": "code",
   "execution_count": 1,
   "id": "1ece4f93-e85e-45fe-988d-4d852179704e",
   "metadata": {},
   "outputs": [],
   "source": [
    "import time "
   ]
  },
  {
   "cell_type": "code",
   "execution_count": 2,
   "id": "790192ce-5692-4764-9a09-56004fe464e6",
   "metadata": {},
   "outputs": [],
   "source": [
    "def sum_of_n(n):\n",
    "    start = time.time()\n",
    "    sum = 0\n",
    "    for i in range(n+1):\n",
    "        sum += i\n",
    "    end = time.time()\n",
    "    return sum, end-start\n"
   ]
  },
  {
   "cell_type": "code",
   "execution_count": 6,
   "id": "59157a17-ac5b-46c0-bd25-c0ea00c33b9c",
   "metadata": {},
   "outputs": [
    {
     "data": {
      "text/plain": [
       "(500000500000, 0.15914058685302734)"
      ]
     },
     "execution_count": 6,
     "metadata": {},
     "output_type": "execute_result"
    }
   ],
   "source": [
    "sum_of_n(1000000)"
   ]
  },
  {
   "cell_type": "markdown",
   "id": "c68ba27d-979a-401e-933e-f293b2823714",
   "metadata": {},
   "source": [
    "# Big-O Notation :\n",
    "* T(n) = 1 + n where n: the size of the problem T(n) is the time it takes to solve the problem ,\n",
    "* we here measure the solving process with the number of steps to solve the problem not by the time it takes\n",
    "* but it turns out the number of steps the process take to solve the problem is not as importnant as finding the most dominant part ine the equation T(n)\n",
    "* as the problem gets larger some parts of T(n) overpower the rest (The Order Of Magnitude)\n",
    "* and what is called the Big-O Notation-> O(F(n))\n",
    "* F(n) represents the dominant part of T(n) and O(F(n)) actually provides useful information about the specific number of steps to solve the problem \n",
    "* ex -> T(N) = 1 + n, as n gets larger the (1) becomes less effective to the function \n",
    "* so, F(n) = n and O(F(n)) = O(n)"
   ]
  },
  {
   "cell_type": "code",
   "execution_count": null,
   "id": "97852d30-aa2e-459e-9325-1e6028442b45",
   "metadata": {},
   "outputs": [],
   "source": [
    "a = 5\n",
    "b = 6\n",
    "c = 10\n",
    "for i in range(n):\n",
    "    for j in range(n):\n",
    "        x = i * i\n",
    "        y = j * j\n",
    "        z = i * j\n",
    "for k in range(n):\n",
    "    w = a * k + 45\n",
    "    v = b * b\n",
    "d = 33"
   ]
  },
  {
   "cell_type": "markdown",
   "id": "960a37ab-1976-48c9-aa40-283d278f4164",
   "metadata": {},
   "source": [
    "# The number of assignment operations is the sum of the four terms  :\n",
    "   * 1- (3) representing the number of assignment statements (a, b, c)\n",
    "   * 2- (3n^2) since there is three statements(x, y, z) performed (n^2) times \n",
    "   * 3- (2n) since there are two statements (w, v) performed (n) times\n",
    "   * 4- (1) one assignment statement (d)\n",
    "   * T(n) = 3n^2 + 2n + 5 -> (n^2) is the dominant part\n",
    "   * the big-o function of this equation is -> O(n^2)"
   ]
  },
  {
   "cell_type": "code",
   "execution_count": null,
   "id": "443896e1-4edf-4faf-8d15-aa5f36e4dbb5",
   "metadata": {},
   "outputs": [],
   "source": [
    "def min_1(a):\n",
    "    minimum = 5\n",
    "    for i in(a):\n",
    "        for j in(a):\n",
    "            if i < j and i < minimum :\n",
    "                minimum = i\n",
    "    return minimum            \n",
    "                \n",
    "print(min_1(list1))                \n",
    "    \n",
    "\n",
    "def min_2(a):\n",
    "    minimum = 5\n",
    "    for i in(a):\n",
    "        if i < minimum :\n",
    "            minimum = i\n",
    "    return minimum"
   ]
  },
  {
   "cell_type": "markdown",
   "id": "0d994512-d135-40e2-8a11-c239b13d1750",
   "metadata": {},
   "source": [
    "### -> Here are two functions that do the same thing but with different O(T(n))\n",
    "* min_1() -> O(n**2) -> quadratic\n",
    "* min_2() -> O(n) -> Linear"
   ]
  },
  {
   "cell_type": "markdown",
   "id": "4c768b95-eaeb-4e74-98f7-913a1aa38653",
   "metadata": {},
   "source": [
    "# Anagram\n",
    "* Deriving if two strings with the same lenghts have the same characters but with different order"
   ]
  },
  {
   "cell_type": "code",
   "execution_count": 9,
   "id": "63bc7143-4138-4254-8acd-c7dabe673142",
   "metadata": {},
   "outputs": [],
   "source": [
    "def anagram(s1, s2):\n",
    "    found = []\n",
    "    for i in(s1):\n",
    "        for j in(s2):\n",
    "            if i == j:\n",
    "                found.append(1)\n",
    "    if len(s1) == len(found):\n",
    "        return True\n",
    "    else:\n",
    "        return False"
   ]
  },
  {
   "cell_type": "code",
   "execution_count": 13,
   "id": "8a3a1ef6-f1d1-4148-8915-562dc0450c0d",
   "metadata": {},
   "outputs": [
    {
     "data": {
      "text/plain": [
       "True"
      ]
     },
     "execution_count": 13,
     "metadata": {},
     "output_type": "execute_result"
    }
   ],
   "source": [
    "anagram('pod', 'dop')"
   ]
  },
  {
   "cell_type": "markdown",
   "id": "c586e324-a127-44f3-ad3f-b6a7ca0157d9",
   "metadata": {},
   "source": [
    "# Performance of python data structures:\n",
    "## 1- Lists\n",
    "* Let us look at four different ways we might generate a list of n numbers starting with 0"
   ]
  },
  {
   "cell_type": "code",
   "execution_count": 2,
   "id": "faa87174-8b7d-4dbd-8104-314106c31164",
   "metadata": {},
   "outputs": [],
   "source": [
    "def test1():  # Concatenation\n",
    "    l = []\n",
    "    for i in range(1000):\n",
    "        l += [i]\n",
    "    return l  \n",
    "\n",
    "def test2():  # Appending\n",
    "    l = []\n",
    "    for i in range(1000):\n",
    "        l.append(i)\n",
    "    return l\n",
    "\n",
    "def test3():  # List Comprehension\n",
    "    l = [i for i in range(1000)]\n",
    "    return l\n",
    "\n",
    "def test4():  # List Range\n",
    "    return list(range(1000))"
   ]
  },
  {
   "cell_type": "markdown",
   "id": "ea580995-e238-45a8-951c-619cb55dde00",
   "metadata": {},
   "source": [
    "### Evaluating each process ..\n",
    "    Using the module timeit:\n",
    "    Timer object used to evaluate the processes in milliseconds"
   ]
  },
  {
   "cell_type": "code",
   "execution_count": 4,
   "id": "11360cc8-a26e-45d3-9b43-478df7377168",
   "metadata": {},
   "outputs": [
    {
     "name": "stdout",
     "output_type": "stream",
     "text": [
      "concat  0.18331999999986692 milliseconds\n",
      "append  0.12825960000009218 milliseconds\n",
      "comprehension  0.05260240000006888 milliseconds\n",
      "list range  0.015928899999835266 milliseconds\n"
     ]
    }
   ],
   "source": [
    "# Import the timeit module\n",
    "import timeit\n",
    "# Import the Timer class defined in the module\n",
    "from timeit import Timer\n",
    "# If the above line is excluded, you need to replace Timer with\n",
    "# timeit.Timer when defining a Timer object\n",
    "t1 = Timer(\"test1()\", \"from __main__ import test1\")\n",
    "print(\"concat \",t1.timeit(number=1000), \"milliseconds\")\n",
    "t2 = Timer(\"test2()\", \"from __main__ import test2\")\n",
    "print(\"append \",t2.timeit(number=1000), \"milliseconds\")\n",
    "t3 = Timer(\"test3()\", \"from __main__ import test3\")\n",
    "print(\"comprehension \",t3.timeit(number=1000), \"milliseconds\")\n",
    "t4 = Timer(\"test4()\", \"from __main__ import test4\")\n",
    "print(\"list range \",t4.timeit(number=1000), \"milliseconds\")"
   ]
  },
  {
   "cell_type": "markdown",
   "id": "bf8e8887-6b42-41c8-872d-2157e858a164",
   "metadata": {},
   "source": [
    "* indexx[ ]                       𝑂(1)\n",
    "* index assignment               𝑂(1)\n",
    "* append                         𝑂(1)\n",
    "* pop()                          𝑂(1)\n",
    "* pop(i)                         𝑂(𝑛)\n",
    "* insert(i,item)                 𝑂(𝑛)\n",
    "* del operator                   𝑂(𝑛)\n",
    "* iteration                      𝑂(𝑛)\n",
    "* contains (in)                  𝑂(𝑛)\n",
    "* get slice [x : y]                𝑂(𝑘)\n",
    "* del slice                      𝑂(𝑛)\n",
    "* set slice                      𝑂(𝑛 + 𝑘)\n",
    "* reverse                        𝑂(𝑛)\n",
    "* concatenate                    𝑂(𝑘)\n",
    "* sort                           𝑂(𝑛 log 𝑛)\n",
    "* multiply                       𝑂(𝑛𝑘) "
   ]
  },
  {
   "cell_type": "markdown",
   "id": "79dc1bf8-9bf1-4b47-a210-1f78ba4de33c",
   "metadata": {},
   "source": [
    "<!-- indexx[] 𝑂(1)\n",
    "index assignment 𝑂(1)\n",
    "append 𝑂(1)\n",
    "pop() 𝑂(1)\n",
    "pop(i) 𝑂(𝑛)\n",
    "insert(i,item) 𝑂(𝑛)\n",
    "del operator 𝑂(𝑛)\n",
    "iteration 𝑂(𝑛)\n",
    "contains (in) 𝑂(𝑛)\n",
    "get slice [x:y] 𝑂(𝑘)\n",
    "del slice 𝑂(𝑛)\n",
    "set slice 𝑂(𝑛 + 𝑘)\n",
    "reverse 𝑂(𝑛)\n",
    "concatenate 𝑂(𝑘)\n",
    "sort 𝑂(𝑛 log 𝑛)\n",
    "multiply 𝑂(𝑛𝑘) -->"
   ]
  },
  {
   "cell_type": "code",
   "execution_count": 5,
   "id": "e8e67422-77b4-4b68-91bc-3bdc8af404e9",
   "metadata": {},
   "outputs": [
    {
     "name": "stdout",
     "output_type": "stream",
     "text": [
      "pop(i) 0.05553840000015953 milliseconds\n",
      "pop() 0.00026739999998426356 milliseconds\n"
     ]
    }
   ],
   "source": [
    "x = list(range(100000))\n",
    "t1 = Timer(\"x.pop(1)\", \"from __main__ import x\")\n",
    "print(\"pop(i)\", t1.timeit(number=1000), \"milliseconds\")\n",
    "t2 = Timer(\"x.pop()\", \"from __main__ import x\")\n",
    "print(\"pop()\", t2.timeit(number=1000), \"milliseconds\")"
   ]
  },
  {
   "cell_type": "code",
   "execution_count": null,
   "id": "0e664f58-ff99-4647-8f30-9403c38a5eb8",
   "metadata": {},
   "outputs": [],
   "source": []
  }
 ],
 "metadata": {
  "kernelspec": {
   "display_name": "Python 3",
   "language": "python",
   "name": "python3"
  },
  "language_info": {
   "codemirror_mode": {
    "name": "ipython",
    "version": 3
   },
   "file_extension": ".py",
   "mimetype": "text/x-python",
   "name": "python",
   "nbconvert_exporter": "python",
   "pygments_lexer": "ipython3",
   "version": "3.8.8"
  }
 },
 "nbformat": 4,
 "nbformat_minor": 5
}
