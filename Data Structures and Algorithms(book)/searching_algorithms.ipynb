{
 "cells": [
  {
   "cell_type": "markdown",
   "id": "cb85ce91-de4a-4889-8598-2f7e7b0c7881",
   "metadata": {},
   "source": [
    "# 1- The Sequential Search\n",
    "* Where the search process is operated on a linear data structure\n",
    "   like lists in python that every element is corresponding to a specific index\n",
    "* If there are 𝑛 items, then the sequential search requires 𝑛 comparisons to discover that the item\n",
    "  is not there. If there are 𝑛 items, then the sequential search \n",
    "  requires 𝑛 comparisons to discover that the item is not there.\n",
    "* so the complexity of the sequential search, is 𝑂(𝑛).so the complexity of the sequential search, is 𝑂(𝑛).  "
   ]
  },
  {
   "cell_type": "code",
   "execution_count": 1,
   "id": "e89bc0f0-7f3e-48a0-aa59-2428fcd063c2",
   "metadata": {},
   "outputs": [],
   "source": [
    "def sequential_search(lst, item):\n",
    "    pos = 0\n",
    "    found = False\n",
    "    while pos < len(lst) and not found:\n",
    "        if lst[pos] == item:\n",
    "            found = True\n",
    "        else:\n",
    "            pos += 1\n",
    "    return found        "
   ]
  },
  {
   "cell_type": "code",
   "execution_count": 2,
   "id": "3dda4901-dc88-46d0-8319-f245c474c62b",
   "metadata": {},
   "outputs": [
    {
     "name": "stdout",
     "output_type": "stream",
     "text": [
      "False\n",
      "True\n"
     ]
    }
   ],
   "source": [
    "test_list = [1, 2, 32, 8, 17, 19, 42, 13, 0]\n",
    "print(sequential_search(test_list, 3))\n",
    "print(sequential_search(test_list, 13))"
   ]
  },
  {
   "cell_type": "markdown",
   "id": "7f43082d-4042-432d-b6ab-792e7897403c",
   "metadata": {},
   "source": [
    "So, to avoid searching for n numbers for a non-existing element..."
   ]
  },
  {
   "cell_type": "code",
   "execution_count": 10,
   "id": "8c923d6c-77ce-41e8-baca-454bbc37080b",
   "metadata": {},
   "outputs": [],
   "source": [
    "def ordered_sequential_search(lst, item):\n",
    "    pos = 0\n",
    "    found = False\n",
    "    stop = False\n",
    "    while pos < len(lst) and not found and not stop:\n",
    "        if lst[pos] == item:\n",
    "            found = True\n",
    "        elif lst[pos] > item:\n",
    "            stop = True\n",
    "        else:\n",
    "            pos += 1\n",
    "    return found        "
   ]
  },
  {
   "cell_type": "code",
   "execution_count": 11,
   "id": "73723ac7-906c-47fd-9e60-a0fa19a12dba",
   "metadata": {},
   "outputs": [
    {
     "name": "stdout",
     "output_type": "stream",
     "text": [
      "False\n",
      "True\n"
     ]
    }
   ],
   "source": [
    "test_list = [0, 1, 2, 8, 13, 17, 19, 32, 42,]\n",
    "print(ordered_sequential_search(test_list, 3))\n",
    "print(ordered_sequential_search(test_list, 13))"
   ]
  },
  {
   "cell_type": "markdown",
   "id": "9eefe9d9-be44-49c8-bcfb-8a231557b373",
   "metadata": {},
   "source": [
    "# 2- The Binary Search(Searching In Logarithmic Time)(O(log(n))"
   ]
  },
  {
   "cell_type": "markdown",
   "id": "66407beb-4b95-40b7-b96d-029469654922",
   "metadata": {},
   "source": [
    "It is possible to take greater advantage of the ordered list if we are clever with our comparisons.\n",
    "In the sequential search, when we compare against the first item, there are at most 𝑛 − 1 more\n",
    "items to look through if the first item is not what we are looking for. Instead of searching the list in sequence, a binary search will start by examining the middle item. If that item is the one\n",
    "we are searching for, we are done. If it is not the correct item, we can use the ordered nature of\n",
    "the list to eliminate half of the remaining items. If the item we are searching for is greater than\n",
    "the middle item, we know that the entire lower half of the list as well as the middle item can be\n",
    "eliminated from further consideration. The item, if it is in the list, must be in the upper half."
   ]
  },
  {
   "cell_type": "code",
   "execution_count": 2,
   "id": "bf8b6806-8229-415e-a1da-94c66725f146",
   "metadata": {},
   "outputs": [],
   "source": [
    "def binary_search(a_list, item):\n",
    "    first = 0\n",
    "    last = len(a_list) - 1\n",
    "    found = False\n",
    "    while first <= last and not found:\n",
    "        midpoint = (first + last) // 2\n",
    "        if a_list[midpoint] == item:\n",
    "            found = True\n",
    "        elif item < a_list[midpoint]:\n",
    "            last = midpoint - 1\n",
    "        else:\n",
    "            first = midpoint + 1\n",
    "    return found        "
   ]
  },
  {
   "cell_type": "code",
   "execution_count": 3,
   "id": "3ef38a3f-44c3-451f-a64a-cc4949b1320b",
   "metadata": {},
   "outputs": [
    {
     "name": "stdout",
     "output_type": "stream",
     "text": [
      "False\n",
      "True\n"
     ]
    }
   ],
   "source": [
    "test_list = [0, 1, 2, 8, 13, 17, 19, 32, 42,]\n",
    "print(binary_search(test_list, 3))\n",
    "print(binary_search(test_list, 13))"
   ]
  },
  {
   "cell_type": "markdown",
   "id": "64436442-7941-4b6e-9b9c-dc7f17f4e969",
   "metadata": {},
   "source": [
    "Recursive Call\n",
    "\n"
   ]
  },
  {
   "cell_type": "code",
   "execution_count": 7,
   "id": "4aaa167c-1823-4ed0-90bb-98ea4cbf5a22",
   "metadata": {},
   "outputs": [],
   "source": [
    "def binary_search_recursive(a_list, item):\n",
    "    midpoint = len(a_list // 2)\n",
    "    if len(a_list) == 0:\n",
    "        return False\n",
    "    elif a_list[midpoint] == item:\n",
    "        return True\n",
    "    elif item < a_list[midpoint]:\n",
    "        return binary_search_recursive(a_list[:midpoint], item)\n",
    "    else:\n",
    "        return binary_search_recursive(a_list[midpoint+1:], item)\n",
    "            "
   ]
  },
  {
   "cell_type": "markdown",
   "id": "43ca7b4d-1cd2-43cb-bcce-69fb2ce4fe59",
   "metadata": {},
   "source": [
    "### number of comparisons is logarithmic with respect to the number of items in the list. Therefore, the binary search is 𝑂(log 𝑛)."
   ]
  },
  {
   "cell_type": "code",
   "execution_count": 8,
   "id": "c6a300bc-3645-4a1d-911a-98a573abe5a8",
   "metadata": {},
   "outputs": [
    {
     "name": "stdout",
     "output_type": "stream",
     "text": [
      "False\n",
      "True\n"
     ]
    }
   ],
   "source": [
    "test_list = [0, 1, 2, 8, 13, 17, 19, 32, 42,]\n",
    "print(binary_search(test_list, 3))\n",
    "print(binary_search(test_list, 13))"
   ]
  },
  {
   "cell_type": "markdown",
   "id": "2bae1921-9ed9-4023-8abf-285ca0cccf5d",
   "metadata": {},
   "source": [
    "# 3- Hashing\n",
    "* a data structure that can search in O(1) time\n",
    "* a hash table is a collection of items which are stored in such a way as to make it easy to find them later\n",
    "* each position of a hash table is called a slot it an hold an item and is named by an integer starting from 0 \n",
    "* the mapping between an item that exists in the hash table and its slot is called a \"Hash Function\" \n",
    "* the hash function will take any item in the collection and return an integer in the range of the slots names between (0 -> m-1)\n",
    "\n",
    "#### 3-1- Remainder Method\n",
    "* our first hash function, it simply takes an item and divides it by the table size(no of slots) returning the remainder as its\n",
    "  hash value (ℎ(item) = item%11)\n",
    "* after the hash values have been computed , we can insert each item \n",
    "  into the hash table at the designed position \n",
    "  \n",
    "### The load factor (𝜆) : \n",
    "* is the number of occupied positions over the number of slots(the table size)\n",
    "\n",
    "* Now when we want to search for an item we simply use the hash function to compute the slot name for the item and then check the hash table if the item is present \n",
    "* this searching algorithm is O(1)\n",
    "* but there is a problem regarding this hash function is that multiple items can share the sam positions and this is called ('collision' or 'clash')"
   ]
  },
  {
   "cell_type": "markdown",
   "id": "6661b398-e96a-4f16-a4b7-5b2ba7782177",
   "metadata": {},
   "source": [
    "## Perfect Hash Function \n",
    "is the one that maps every element to a unique slot\n",
    "* unfortunately given an arbitrary collection of items, there is no systematic way to construct a perfect hash function \n",
    "* but luckily we din't want a perfecto hash function to still gain performance efficiency \n",
    "\n",
    "### methods to create hash functions that minimize the number of collisions \n",
    "* 1- (the folding method): \n",
    "dividing the item into sub-groups that are equal sizes, then these peaces are added together then divived by the number of slots(the hash table size)\n",
    "EX)> the phone number (436-555-4601)\n",
    "     - diviving -> (43-65-55-46-01)\n",
    "     - adding -> (43+65+55+46+01) = 210\n",
    "     - remainder -> 210 % slots(11) = 1\n",
    "     - the position of that phone number is -> slot number (1)\n",
    "\n",
    "* 2- (the mid-square method):\n",
    " we first square the item and then extract some portion of the resulting digits \n",
    "EX)> the item (44)\n",
    "     - (44**2) -> 1936\n",
    "     - extracting for example the two-middle numbers (93)\n",
    "     - the remainder step -> (93%11) = 5"
   ]
  },
  {
   "cell_type": "markdown",
   "id": "7af30be2-8c73-4f4e-9a5b-195bcec29869",
   "metadata": {},
   "source": [
    "we can also create a hash function for character-based items such as strings \n",
    "for example the woed ('cat')"
   ]
  },
  {
   "cell_type": "code",
   "execution_count": 11,
   "id": "ef40d7ca-a01f-4e5e-9a1f-a36026f6a2bc",
   "metadata": {},
   "outputs": [
    {
     "name": "stdout",
     "output_type": "stream",
     "text": [
      "99\n",
      "97\n",
      "116\n"
     ]
    }
   ],
   "source": [
    "print(ord('c'))\n",
    "print(ord('a'))\n",
    "print(ord('t'))"
   ]
  },
  {
   "cell_type": "markdown",
   "id": "c78de8ad-0fd6-4f41-b7a2-4b86d51e92fa",
   "metadata": {},
   "source": [
    "we can then take these three ordinal values, add them up and use the remainder method to get a hash value.."
   ]
  },
  {
   "cell_type": "code",
   "execution_count": 12,
   "id": "6f24107b-5051-4043-b23b-a7a2e7dc32fa",
   "metadata": {},
   "outputs": [],
   "source": [
    "# a hash function to encode strings \n",
    "def hash(a_string, table_size):\n",
    "    sum = 0\n",
    "    for pos in range(len(a_string)):\n",
    "        sum += ord(a_string[pos])\n",
    "    return sum % table_size    "
   ]
  },
  {
   "cell_type": "code",
   "execution_count": 13,
   "id": "16377ec3-6318-46b0-9c45-8b94e20e63a1",
   "metadata": {},
   "outputs": [
    {
     "data": {
      "text/plain": [
       "4"
      ]
     },
     "execution_count": 13,
     "metadata": {},
     "output_type": "execute_result"
    }
   ],
   "source": [
    "hash('cat', 11)"
   ]
  },
  {
   "cell_type": "markdown",
   "id": "4ba5c75b-035c-4622-97dc-65136be0e377",
   "metadata": {},
   "source": [
    "## Collision Resolution \n",
    "* when two items are placed in the same slot\n",
    "* finding another slot for the other item, this process is called Collision Resolution\n",
    "* this process is very important because it's hard to design a perfect hash function \n",
    "* one method is to find the nearest empty slot to place that item (\"Open Addressing\") and (\"Linear Probing\")\n",
    "* a disadvantage of this process is tendency for clustring, items become clustered in the table, this means that if many collisions occured at the same hash value, a number of surrounding slots will be filled by the linear probing resolution, this will have a big impact on the rest of the items\n",
    "* one way to solve this issue is to extend the linear probing so instead of looking sequentially for the next open slot, we skip slots, thereby more evenly distributing the items that have caused collisions \n",
    "* the general name for this process of looking for another slot after collisions is(\"Rehashing\")\n",
    "* The Rehash Function is -> \n",
    "\n",
    "- new_hash_value = rehash(old_hash_value)\n",
    "- where:\n",
    "- rehash(pos) = (pos + skip) % size_of_table"
   ]
  },
  {
   "cell_type": "markdown",
   "id": "f572c923-9dfe-4e9f-b722-ee2857c4ab21",
   "metadata": {},
   "source": [
    "It's important to choose a skip_value that ensures that all slots will be used eventually otherwise part of the table will be unsued, to ensure this,\n",
    "\n",
    "it's often suggested that the table size is a prime number\n",
    "this variation of linear probing is called (\"Quadratic Probing\")"
   ]
  },
  {
   "cell_type": "markdown",
   "id": "4491c268-a617-475d-bfff-e2d158df3c84",
   "metadata": {},
   "source": [
    "## Implementing the Map Abstract Data Type\n",
    "* A dictionary in python is a way to save the data in a key-data pair\n",
    "* where the key is used to look up the associated data value \n",
    "* we of ten refer to thois idea as a map\n",
    "* the keys in a map are all unique so there is one-to-one relationship between a key and a value"
   ]
  },
  {
   "cell_type": "code",
   "execution_count": 3,
   "id": "6d09abbb-1bba-4a76-9b54-f47bb808d1f3",
   "metadata": {},
   "outputs": [],
   "source": [
    "class HashTable:\n",
    "    def __init__(self):\n",
    "        self.size = 11\n",
    "        self.slots = [None] * self.size\n",
    "        self.data = [None] * self.size"
   ]
  },
  {
   "cell_type": "markdown",
   "id": "bbf83ccb-0395-4333-b5da-7f901ea30338",
   "metadata": {},
   "source": [
    "we will implement a function to place items in the hash table using the remaider method, with collision resolution technique with linear probing with a \"plus 1\" rehash function"
   ]
  },
  {
   "cell_type": "code",
   "execution_count": 6,
   "id": "3d89ba1d-a82c-47ff-92e8-8ab816d71a3c",
   "metadata": {},
   "outputs": [],
   "source": [
    "class HashTable:\n",
    "    def __init__(self):\n",
    "        self.size = 11\n",
    "        self.slots = [None] * self.size\n",
    "        self.data = [None] * self.size\n",
    "    \n",
    "    def put(self, key, data):\n",
    "        hash_value = self.hash_function(key, len(self.slots))\n",
    "        \n",
    "        if self.slots[hash_value] == None:  # If that slot is empty \n",
    "            self.slots[hash_value] = key\n",
    "            self.data[hash_value] = data\n",
    "        else:\n",
    "            if self.slots[hash_value] == key:  # If it's not empty or empty but it's the wanted slot\n",
    "                self.data[hash_value] = data  # Replace\n",
    "            else:\n",
    "                next_slot = self.rehash(hash_value, len(self.slots))  \n",
    "                while self.slots[next_slot] != None and self.slots[next_slot] != key:\n",
    "                    next_slot = self.rehash(next_slot, len(self.slots))\n",
    "                    \n",
    "                if self.slots[next_slot] == None:\n",
    "                    self.slots[next_slot] = key\n",
    "                    self.data[next_slot] = data\n",
    "                else:\n",
    "                    self.data[next_slot] = data  # replace\n",
    "    \n",
    "    def get(self, key):\n",
    "        start_slot = self.hash_function(key, len(self.slots))\n",
    "        \n",
    "        data = None\n",
    "        stop = False\n",
    "        found = False\n",
    "        position = start_slot\n",
    "        while self.slots[position] != None and not found and not stop:\n",
    "            if self.slots[position] == key:\n",
    "                found = True\n",
    "                data = self.data[position]\n",
    "            else:\n",
    "                position = self.rehash(position, len(self.slots))\n",
    "                if position == start_slot:\n",
    "                    stop = True\n",
    "        return data\n",
    "    \n",
    "    def __getitem__(self, key):\n",
    "        return self.get(key)\n",
    "    \n",
    "    def __setitem__(self, key, data):\n",
    "        self.put(key, data)\n",
    "    \n",
    "    def hash_function(self, key, size):\n",
    "        return key % size\n",
    "    \n",
    "    def rehash(self, old_hash, size):\n",
    "        return (old_hash + 1) % size"
   ]
  },
  {
   "cell_type": "code",
   "execution_count": 7,
   "id": "b0e2cf58-fe9c-4ee5-8319-0e310275fab5",
   "metadata": {},
   "outputs": [
    {
     "data": {
      "text/plain": [
       "[77, 44, 55, 20, 26, 93, 17, None, None, 31, 54]"
      ]
     },
     "execution_count": 7,
     "metadata": {},
     "output_type": "execute_result"
    }
   ],
   "source": [
    "h=HashTable()\n",
    "h[54]=\"cat\"\n",
    "h[26]=\"dog\"\n",
    "h[93]=\"lion\"\n",
    "h[17]=\"tiger\"\n",
    "h[77]=\"bird\"\n",
    "h[31]=\"cow\"\n",
    "h[44]=\"goat\"\n",
    "h[55]=\"pig\"\n",
    "h[20]=\"chicken\"\n",
    "h.slots"
   ]
  },
  {
   "cell_type": "code",
   "execution_count": 9,
   "id": "3b75aa1b-853f-40e1-8765-ce37b4f27e34",
   "metadata": {},
   "outputs": [
    {
     "data": {
      "text/plain": [
       "['bird',\n",
       " 'goat',\n",
       " 'pig',\n",
       " 'chicken',\n",
       " 'dog',\n",
       " 'lion',\n",
       " 'tiger',\n",
       " None,\n",
       " None,\n",
       " 'cow',\n",
       " 'cat']"
      ]
     },
     "execution_count": 9,
     "metadata": {},
     "output_type": "execute_result"
    }
   ],
   "source": [
    "h.data"
   ]
  },
  {
   "cell_type": "code",
   "execution_count": null,
   "id": "bbb9fef5-1132-4860-92d4-0cc08586a35c",
   "metadata": {},
   "outputs": [],
   "source": []
  }
 ],
 "metadata": {
  "kernelspec": {
   "display_name": "Python 3",
   "language": "python",
   "name": "python3"
  },
  "language_info": {
   "codemirror_mode": {
    "name": "ipython",
    "version": 3
   },
   "file_extension": ".py",
   "mimetype": "text/x-python",
   "name": "python",
   "nbconvert_exporter": "python",
   "pygments_lexer": "ipython3",
   "version": "3.8.8"
  }
 },
 "nbformat": 4,
 "nbformat_minor": 5
}
