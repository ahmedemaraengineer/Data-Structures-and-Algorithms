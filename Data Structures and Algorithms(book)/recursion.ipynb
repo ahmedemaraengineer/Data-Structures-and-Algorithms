{
 "cells": [
  {
   "cell_type": "markdown",
   "id": "7cb51d26-1237-4885-bae5-5fb497a180b2",
   "metadata": {},
   "source": [
    "## Recursion: \n",
    "* is a method of solving problems that involves breaking the problem into smaller subproblems that it can be solved trivially\n",
    "\n",
    "\n",
    "Suppose the problem of summing over a list that we know \n",
    "We will solve it first without recursion ..."
   ]
  },
  {
   "cell_type": "code",
   "execution_count": 6,
   "id": "51c3c3d6-92e2-4e6d-a9d6-43c0bd3607ca",
   "metadata": {},
   "outputs": [],
   "source": [
    "def sum_list1(num_list):\n",
    "    the_sum = 0\n",
    "    for i in num_list:\n",
    "        the_sum += i\n",
    "        \n",
    "    return the_sum    "
   ]
  },
  {
   "cell_type": "code",
   "execution_count": 7,
   "id": "bfd23007-dccc-4f37-bdb0-dc67a74277e4",
   "metadata": {},
   "outputs": [
    {
     "data": {
      "text/plain": [
       "10"
      ]
     },
     "execution_count": 7,
     "metadata": {},
     "output_type": "execute_result"
    }
   ],
   "source": [
    "sum_list1([1, 2, 3, 4])"
   ]
  },
  {
   "cell_type": "markdown",
   "id": "24efdc82-c5c5-4f74-a5fa-81476b2d9a7f",
   "metadata": {},
   "source": [
    "* but what if that you can't use for loops,\n",
    "  how would you compute the sum ?\n",
    "  we might start with summing just two numbers by defining a function that takes only to parameters and then adds them together \n",
    "  so we might break our problem to be something like this:\n",
    "  (9 + (7 + (5 + (3 + 1))))\n",
    "  \n",
    "## Recursive Solution:  "
   ]
  },
  {
   "cell_type": "code",
   "execution_count": 9,
   "id": "24ba1844-fc35-4212-8788-e8df0b771591",
   "metadata": {},
   "outputs": [
    {
     "data": {
      "text/plain": [
       "10"
      ]
     },
     "execution_count": 9,
     "metadata": {},
     "output_type": "execute_result"
    }
   ],
   "source": [
    "def sum_list2(num_list):\n",
    "    if len(num_list) == 1:\n",
    "        return num_list[0]\n",
    "    else:\n",
    "        return num_list[0] + sum_list2(num_list[1:])  # The function is calling itself\n",
    "sum_list2([1, 2, 3, 4])    "
   ]
  },
  {
   "cell_type": "markdown",
   "id": "8e6c3607-ba97-4ae1-b255-1519bfcd404d",
   "metadata": {},
   "source": [
    " * all recursive algorithms must obey three important laws:\n",
    "1. A recursive algorithm must have a base case.\n",
    "2. A recursive algorithm must change its state and move toward the base case.\n",
    "3. A recursive algorithm must call itself, recursively."
   ]
  },
  {
   "cell_type": "markdown",
   "id": "0f5b2c9e-80fb-4282-aa5a-2a90a1b4816a",
   "metadata": {},
   "source": [
    "## Implementation(1)- Converting an Integer Into a String in Any Base\n",
    "* method1- using a string"
   ]
  },
  {
   "cell_type": "code",
   "execution_count": 4,
   "id": "2e4507fa-169e-4de6-8f42-b02e66b14bdc",
   "metadata": {},
   "outputs": [],
   "source": [
    "def to_str1(n, base):\n",
    "    convert_string = \"0123456789ABCDEF\"\n",
    "    if n < base:   # Our base case that the recursion method will stop calling the itself\n",
    "        return convert_string[n]\n",
    "    else:\n",
    "        return to_str1(n // base, base) + convert_string[n % base]"
   ]
  },
  {
   "cell_type": "code",
   "execution_count": 6,
   "id": "89948ef3-0ef4-4682-a73d-be045fe4f6f8",
   "metadata": {},
   "outputs": [
    {
     "data": {
      "text/plain": [
       "'101101'"
      ]
     },
     "execution_count": 6,
     "metadata": {},
     "output_type": "execute_result"
    }
   ],
   "source": [
    "to_str1(45, 2)"
   ]
  },
  {
   "cell_type": "markdown",
   "id": "1438047f-b2ad-4cb6-ac3e-e7f3eeb957c4",
   "metadata": {},
   "source": [
    "* Using a stack"
   ]
  },
  {
   "cell_type": "code",
   "execution_count": 10,
   "id": "392131a3-b1c1-4c09-b838-92064d23af69",
   "metadata": {},
   "outputs": [],
   "source": [
    "from data_structures import Stack"
   ]
  },
  {
   "cell_type": "code",
   "execution_count": 11,
   "id": "14623ade-b87f-4a8a-959c-9b222e6a2550",
   "metadata": {},
   "outputs": [],
   "source": [
    "r_stack = Stack()\n",
    "def to_str2(n, base):\n",
    "    convert_string = \"0123456789ABCDEF\"\n",
    "    while n > 0:\n",
    "        if n < base:\n",
    "            r_stack.push(convert_string[n])\n",
    "        else:\n",
    "            r_stack.push(convert_string[n % base])\n",
    "        n = n // base\n",
    "    res = \"\"\n",
    "    while not r_stack.is_empty():\n",
    "        res += str(r_stack.pop())\n",
    "    return res     "
   ]
  },
  {
   "cell_type": "code",
   "execution_count": 12,
   "id": "d4a51a46-036e-4702-b4a2-82ceb29bf2cd",
   "metadata": {},
   "outputs": [
    {
     "data": {
      "text/plain": [
       "'5AD'"
      ]
     },
     "execution_count": 12,
     "metadata": {},
     "output_type": "execute_result"
    }
   ],
   "source": [
    "to_str2(1453, 16)"
   ]
  },
  {
   "cell_type": "markdown",
   "id": "bc5a081c-f515-4c67-8691-a564bdfafae4",
   "metadata": {},
   "source": [
    "## Visualzing Recursion"
   ]
  },
  {
   "cell_type": "code",
   "execution_count": 9,
   "id": "7787f6e6-1df8-4c46-8493-dd5a17da8856",
   "metadata": {},
   "outputs": [],
   "source": [
    "import turtle "
   ]
  },
  {
   "cell_type": "code",
   "execution_count": 10,
   "id": "63f664ef-a2de-49c8-a18b-bc9129d0b28c",
   "metadata": {},
   "outputs": [],
   "source": [
    "my_turtle = turtle.Turtle()\n",
    "my_win = turtle.Screen()\n",
    "\n",
    "def draw_spiral(my_turtle, line_len):\n",
    "    if line_len > 0:\n",
    "        my_turtle.forward(line_len)\n",
    "        my_turtle.right(90)\n",
    "        draw_spiral(my_turtle, line_len - 5)\n",
    "draw_spiral(my_turtle, 100)\n",
    "my_win.exitonclick()"
   ]
  },
  {
   "cell_type": "code",
   "execution_count": 17,
   "id": "ce212c32-cd35-4360-8289-7bd13b4b3b6f",
   "metadata": {},
   "outputs": [],
   "source": [
    "import turtle\n",
    "def tree(branch_len, t):\n",
    "    if branch_len > 5:\n",
    "        t.forward(branch_len)\n",
    "        t.right(20)\n",
    "        tree(branch_len - 15, t)\n",
    "        t.left(40)\n",
    "        tree(branch_len - 15, t)\n",
    "        t.right(20)\n",
    "        t.backward(branch_len)\n",
    "\n",
    "def main():\n",
    "    t = turtle.Turtle()\n",
    "    my_win = turtle.Screen()\n",
    "    t.left(90)\n",
    "    t.up()\n",
    "    t.backward(100)\n",
    "    t.down()\n",
    "    t.color(\"green\")\n",
    "    tree(75, t)\n",
    "    my_win.exitonclick()\n",
    "main()"
   ]
  },
  {
   "cell_type": "code",
   "execution_count": 21,
   "id": "1274399c-bc6f-40e7-95d3-b5ebc5b390d7",
   "metadata": {},
   "outputs": [],
   "source": [
    "import turtle\n",
    "def draw_triangle(points, color, my_turtle):\n",
    "    my_turtle.fillcolor(color)\n",
    "    my_turtle.up()\n",
    "    my_turtle.goto(points[0][0],points[0][1])\n",
    "    my_turtle.down()\n",
    "    my_turtle.begin_fill()\n",
    "    my_turtle.goto(points[1][0], points[1][1])\n",
    "    my_turtle.goto(points[2][0], points[2][1])\n",
    "    my_turtle.goto(points[0][0], points[0][1])\n",
    "    my_turtle.end_fill()\n",
    "def get_mid(p1, p2):\n",
    "    return ((p1[0] + p2[0]) / 2, (p1[1] + p2[1]) / 2)"
   ]
  },
  {
   "cell_type": "code",
   "execution_count": 22,
   "id": "fa60bb4a-92bf-4fc4-97b1-75cac0c4807e",
   "metadata": {},
   "outputs": [],
   "source": [
    "def sierpinski(points, degree, my_turtle):\n",
    "    color_map = ['blue', 'red', 'green', 'white', 'yellow', 'violet', 'orange']\n",
    "    draw_triangle(points, color_map[degree], my_turtle)\n",
    "    if degree > 0:\n",
    "        sierpinski([points[0],\n",
    "                    get_mid(points[0], points[1]),\n",
    "                    get_mid(points[0], points[2])],\n",
    "                    degree-1, my_turtle)\n",
    "        sierpinski([points[1],\n",
    "                    get_mid(points[0], points[1]),\n",
    "                    get_mid(points[1], points[2])],\n",
    "                    degree-1, my_turtle)\n",
    "        sierpinski([points[2],\n",
    "                    get_mid(points[2], points[1]),\n",
    "                    get_mid(points[0], points[2])],\n",
    "                    degree-1, my_turtle)\n",
    "def main():\n",
    "    my_turtle = turtle.Turtle()\n",
    "    my_win = turtle.Screen()\n",
    "    my_points = [[-100, -50], [0, 100], [100, -50]]\n",
    "    sierpinski(my_points, 3, my_turtle)\n",
    "    my_win.exitonclick()\n",
    "    \n",
    "main()    "
   ]
  },
  {
   "cell_type": "code",
   "execution_count": 25,
   "id": "a179eb6d-0b57-48c6-b7dc-c7bc8688201a",
   "metadata": {},
   "outputs": [],
   "source": [
    "def fac(num):\n",
    "    if num == 1:\n",
    "        return num \n",
    "    else:\n",
    "        return num * fac(num - 1)"
   ]
  },
  {
   "cell_type": "code",
   "execution_count": 26,
   "id": "86441a35-0f1b-4070-ad03-dadb67687bb5",
   "metadata": {},
   "outputs": [
    {
     "data": {
      "text/plain": [
       "24"
      ]
     },
     "execution_count": 26,
     "metadata": {},
     "output_type": "execute_result"
    }
   ],
   "source": [
    "fac(4)"
   ]
  },
  {
   "cell_type": "code",
   "execution_count": null,
   "id": "d3427b53-2350-4516-bb69-40db340624a1",
   "metadata": {},
   "outputs": [],
   "source": []
  }
 ],
 "metadata": {
  "kernelspec": {
   "display_name": "Python 3",
   "language": "python",
   "name": "python3"
  },
  "language_info": {
   "codemirror_mode": {
    "name": "ipython",
    "version": 3
   },
   "file_extension": ".py",
   "mimetype": "text/x-python",
   "name": "python",
   "nbconvert_exporter": "python",
   "pygments_lexer": "ipython3",
   "version": "3.8.8"
  }
 },
 "nbformat": 4,
 "nbformat_minor": 5
}
