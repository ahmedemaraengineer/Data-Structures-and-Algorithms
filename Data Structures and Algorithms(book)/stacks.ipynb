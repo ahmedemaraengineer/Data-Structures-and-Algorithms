{
 "cells": [
  {
   "cell_type": "markdown",
   "id": "ccdcb33f-ef00-4ce7-814b-b7025105dfc6",
   "metadata": {},
   "source": [
    "# Linear Data Structures\n",
    "* Once an item is added, it stays in that\n",
    "  position relative to the other elements that came before and came after it. Collections such as\n",
    "  these are often referred to as linear data structures.\n",
    "* Such as Stacks, queues, deques, and lists  "
   ]
  },
  {
   "cell_type": "markdown",
   "id": "9ab20a43-19d8-4bc6-af51-19791abf3dc5",
   "metadata": {},
   "source": [
    "## 1- Stack\n",
    "* the last element called \"Top\", the first element called \"Base\"\n",
    "* the base of the stack is significant since the base and those elemnts that are closer to the base are the oldest\n",
    "  elements in the stack \n",
    "* The most recently added item is the\n",
    "  one that is in position to be removed first. This ordering principle is sometimes called LIFO,\n",
    "  last-in first-out\n",
    "* the order of insertions is the oppsite of the order of removals "
   ]
  },
  {
   "cell_type": "code",
   "execution_count": 7,
   "id": "fcaef951-a9b7-4c33-81e1-d27ea71918f8",
   "metadata": {},
   "outputs": [],
   "source": [
    "class Stack:\n",
    "    def __init__(self):\n",
    "        self.items = []\n",
    "    \n",
    "    def is_empty(self):\n",
    "        return self.items == []\n",
    "    \n",
    "    def push(self, item):\n",
    "        self.items.append(item)\n",
    "    \n",
    "    def pop(self):\n",
    "        return self.items.pop()\n",
    "    \n",
    "    def peek(self):\n",
    "        return self.items[len(self.items) - 1]\n",
    "    \n",
    "    def size(self):\n",
    "        return len(self.items)\n",
    "    \n",
    "    def print_stack(self):\n",
    "        return self.items"
   ]
  },
  {
   "cell_type": "code",
   "execution_count": 12,
   "id": "286a1338-569b-4cc3-9b03-0ee56921c991",
   "metadata": {},
   "outputs": [],
   "source": [
    "s = Stack()"
   ]
  },
  {
   "cell_type": "code",
   "execution_count": 13,
   "id": "d28f0b6b-12d2-4424-8b1e-fc557812d2da",
   "metadata": {},
   "outputs": [
    {
     "data": {
      "text/plain": [
       "[4]"
      ]
     },
     "execution_count": 13,
     "metadata": {},
     "output_type": "execute_result"
    }
   ],
   "source": [
    "s.is_empty()\n",
    "s.push(4)\n",
    "s.print_stack()"
   ]
  },
  {
   "cell_type": "markdown",
   "id": "485d5dc7-f418-4c50-b4b0-ff16237ac1b7",
   "metadata": {},
   "source": [
    "## Implementation(1)- Simple Balance Parentheses"
   ]
  },
  {
   "cell_type": "code",
   "execution_count": 26,
   "id": "d58c9ee0-399a-44d7-8c2b-2c1f3bb10ee4",
   "metadata": {},
   "outputs": [],
   "source": [
    "def par_checker(symbol_string):\n",
    "    s = Stack()\n",
    "    balanced = True\n",
    "    index = 0\n",
    "    while index < len(symbol_string) and balanced:\n",
    "        symbol = symbol_string[index]\n",
    "        if symbol == '(':\n",
    "            s.push(symbol)\n",
    "        else:\n",
    "            if s.is_empty():\n",
    "                balanced = False\n",
    "            else:\n",
    "                s.pop()\n",
    "        index += 1\n",
    "    if balanced and s.is_empty():\n",
    "        return True\n",
    "    else:\n",
    "        return False"
   ]
  },
  {
   "cell_type": "code",
   "execution_count": 27,
   "id": "f87eec22-3569-4082-a21e-be9803c321f2",
   "metadata": {},
   "outputs": [
    {
     "name": "stdout",
     "output_type": "stream",
     "text": [
      "False\n",
      "True\n"
     ]
    }
   ],
   "source": [
    "print(par_checker('((())))'))\n",
    "print(par_checker('((()))'))"
   ]
  },
  {
   "cell_type": "markdown",
   "id": "7ddfec8b-172e-4b01-83df-c3aae0d18b47",
   "metadata": {},
   "source": [
    "## Implementation(2)- General Balance Parentheses"
   ]
  },
  {
   "cell_type": "code",
   "execution_count": 31,
   "id": "2da58556-ac29-4bdc-9c0e-968ac43f0cf2",
   "metadata": {},
   "outputs": [
    {
     "data": {
      "text/plain": [
       "True"
      ]
     },
     "execution_count": 31,
     "metadata": {},
     "output_type": "execute_result"
    }
   ],
   "source": [
    "# helper function\n",
    "# that ensures that the ending symbol is corresponding to the opening symbol\n",
    "def matches(open, close):\n",
    "    opens = '{(['\n",
    "    closes = '})]'\n",
    "    return opens.index(open) == closes.index(close)\n",
    "matches('{', '}')"
   ]
  },
  {
   "cell_type": "code",
   "execution_count": 32,
   "id": "4133ebd8-447d-47b3-9495-6676315aa47d",
   "metadata": {},
   "outputs": [],
   "source": [
    "def symb_checker(symbol_string):\n",
    "    s = Stack()\n",
    "    balanced = True\n",
    "    index = 0\n",
    "    while index < len(symbol_string) and balanced:\n",
    "        symbol = symbol_string[index]\n",
    "        if symbol in '({[':\n",
    "            s.push(symbol)\n",
    "        else:\n",
    "            if s.is_empty():\n",
    "                balanced = False\n",
    "            else:\n",
    "                top = s.pop()\n",
    "                if not matches(top, symbol):\n",
    "                    balanced = False\n",
    "        index += 1   \n",
    "    if balanced and s.is_empty():\n",
    "        return True\n",
    "    else:\n",
    "        return False     "
   ]
  },
  {
   "cell_type": "code",
   "execution_count": 34,
   "id": "d505b3eb-225a-4e8d-b110-f89b2279a67e",
   "metadata": {},
   "outputs": [
    {
     "name": "stdout",
     "output_type": "stream",
     "text": [
      "True\n",
      "False\n"
     ]
    }
   ],
   "source": [
    "print(symb_checker('{{([][])}()}'))\n",
    "print(symb_checker('[{()]'))"
   ]
  },
  {
   "cell_type": "markdown",
   "id": "76d9502b-607b-49cb-b0e1-1ddc235877e6",
   "metadata": {},
   "source": [
    "## Implementation(3)- Converting Decimal Numbers to Binary Numbers\n",
    "* Algorithm -> Divide By 2"
   ]
  },
  {
   "cell_type": "code",
   "execution_count": 35,
   "id": "58427831-3781-4868-b3f3-e06291e0e192",
   "metadata": {},
   "outputs": [],
   "source": [
    "def divide_by_2(number):\n",
    "    s = Stack()\n",
    "    \n",
    "    while number > 0:\n",
    "        remainder = number % 2\n",
    "        s.push(remainder)\n",
    "        number = number // 2\n",
    "    bin_string = \"\"\n",
    "    while not s.is_empty():\n",
    "        bin_string += str(s.pop())\n",
    "    \n",
    "    return bin_string"
   ]
  },
  {
   "cell_type": "code",
   "execution_count": 36,
   "id": "e76bd8b6-b3dc-4b87-a4db-779123e3e589",
   "metadata": {},
   "outputs": [
    {
     "data": {
      "text/plain": [
       "'11111011'"
      ]
     },
     "execution_count": 36,
     "metadata": {},
     "output_type": "execute_result"
    }
   ],
   "source": [
    "divide_by_2(251)"
   ]
  },
  {
   "cell_type": "markdown",
   "id": "51c2ee45-2c28-4f38-8b7a-0909eabd33f7",
   "metadata": {},
   "source": [
    "## Implementation(4)- Converting Decimal Numbers to binary, hexa-decimal and octal numbers\n",
    "* Algorithm -> Divide By base"
   ]
  },
  {
   "cell_type": "code",
   "execution_count": 39,
   "id": "74a3fddc-3b53-4c1b-be17-b75889d4498d",
   "metadata": {},
   "outputs": [],
   "source": [
    "def base_converter(dec_number, base):\n",
    "    digits = '0123456789ABCDEF'\n",
    "    s = Stack()\n",
    "    while dec_number > 0:\n",
    "        remainder = dec_number % base\n",
    "        s.push(remainder)\n",
    "        dec_number = dec_number // base\n",
    "    new_string = \"\"\n",
    "    while not s.is_empty():\n",
    "        new_string = new_string + digits[s.pop()]\n",
    "    \n",
    "    return new_string"
   ]
  },
  {
   "cell_type": "code",
   "execution_count": 40,
   "id": "25c658c4-0392-4395-a5e0-2c60c71e65f3",
   "metadata": {},
   "outputs": [
    {
     "name": "stdout",
     "output_type": "stream",
     "text": [
      "11001\n",
      "19\n"
     ]
    }
   ],
   "source": [
    "print(base_converter(25, 2))\n",
    "print(base_converter(25, 16))"
   ]
  },
  {
   "cell_type": "code",
   "execution_count": null,
   "id": "5026ac4a-1ab0-413f-b98c-28dea461c3f0",
   "metadata": {},
   "outputs": [],
   "source": []
  }
 ],
 "metadata": {
  "kernelspec": {
   "display_name": "Python 3",
   "language": "python",
   "name": "python3"
  },
  "language_info": {
   "codemirror_mode": {
    "name": "ipython",
    "version": 3
   },
   "file_extension": ".py",
   "mimetype": "text/x-python",
   "name": "python",
   "nbconvert_exporter": "python",
   "pygments_lexer": "ipython3",
   "version": "3.8.8"
  }
 },
 "nbformat": 4,
 "nbformat_minor": 5
}
