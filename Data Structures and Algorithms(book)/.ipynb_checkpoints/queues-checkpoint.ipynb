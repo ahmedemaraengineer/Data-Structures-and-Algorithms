{
 "cells": [
  {
   "cell_type": "markdown",
   "id": "e2c27716-b33e-4a2f-9730-a4878c8f424b",
   "metadata": {},
   "source": [
    "# 2- Queues\n",
    "* A queue is an ordered collection of items where the addition of new items happens at one end,\n",
    "  called the “rear,” and the removal of existing items occurs at the other end, commonly called\n",
    "  the “front.” As an element enters the queue it starts at the rear and makes its way toward the\n",
    "  front, waiting until that time when it is the next element to be removed\n",
    "* FIFO -> First in First out  "
   ]
  },
  {
   "cell_type": "code",
   "execution_count": 17,
   "id": "aefa858c-d975-4a94-98ef-5be44f2fcc30",
   "metadata": {},
   "outputs": [],
   "source": [
    "class Queue:\n",
    "    def __init__(self):\n",
    "        self.items = []\n",
    "    \n",
    "    def is_empty(self):\n",
    "        return self.items == []\n",
    "    \n",
    "    def enqueue(self, item):  # adds a new item to the rear of the queue\n",
    "        self.items.insert(0, item)\n",
    "        \n",
    "    def dequeue(self):  # removes the front item from the queue and returns that item\n",
    "        return self.items.pop()\n",
    "    \n",
    "    def size(self):\n",
    "        return len(self.items)\n",
    "    \n",
    "    def print_queue(self):\n",
    "        return self.items"
   ]
  },
  {
   "cell_type": "code",
   "execution_count": 18,
   "id": "0b70b088-6b23-4236-b3f8-fd7e8225b066",
   "metadata": {},
   "outputs": [
    {
     "data": {
      "text/plain": [
       "['a', 3, 1]"
      ]
     },
     "execution_count": 18,
     "metadata": {},
     "output_type": "execute_result"
    }
   ],
   "source": [
    "a = Queue()\n",
    "a.enqueue(1)\n",
    "a.enqueue(3)\n",
    "a.enqueue('a')\n",
    "a.print_queue()"
   ]
  },
  {
   "cell_type": "code",
   "execution_count": 24,
   "id": "e8aea4dd-e0a4-49c7-b967-24b3438529a2",
   "metadata": {},
   "outputs": [
    {
     "data": {
      "text/plain": [
       "1"
      ]
     },
     "execution_count": 24,
     "metadata": {},
     "output_type": "execute_result"
    }
   ],
   "source": [
    "a.dequeue()"
   ]
  },
  {
   "cell_type": "markdown",
   "id": "40c58edf-38ed-4441-ad37-e92d35afbbd6",
   "metadata": {},
   "source": [
    "## Implementation(1):- Hot Potato Simulation "
   ]
  },
  {
   "cell_type": "code",
   "execution_count": 21,
   "id": "290cc052-657e-4ac6-8750-942fa6b024c9",
   "metadata": {},
   "outputs": [],
   "source": [
    "def hot_potato(name_list, num):\n",
    "    queue = Queue()\n",
    "    for name in name_list:\n",
    "        queue.enqueue(name)\n",
    "    \n",
    "    while queue.size() > 1:\n",
    "        for i in range(num):\n",
    "            queue.enqueue(queue.dequeue())\n",
    "        queue.dequeue()\n",
    "        return queue.dequeue()"
   ]
  },
  {
   "cell_type": "code",
   "execution_count": 23,
   "id": "a4ebdc38-e891-4dc8-a473-6daae1df0793",
   "metadata": {},
   "outputs": [
    {
     "name": "stdout",
     "output_type": "stream",
     "text": [
      "Susan\n"
     ]
    }
   ],
   "source": [
    "print(hot_potato([\"Bill\", \"David\", \"Susan\", \"Jane\", \"Kent\",\n",
    "\"Brad\"], 7))"
   ]
  },
  {
   "cell_type": "markdown",
   "id": "08102e62-9048-41f9-8c8a-909a792b538d",
   "metadata": {},
   "source": [
    "## Implementaion(2):- Simulation: Printing tasks \n",
    "#### students send printing tasks to the shared printer, the tasks are placed in a queue to be processed in a first-come first-served manner\n",
    "### Steps:\n",
    "* 1- Create a queue of print tasks. Each task will be given a timestamp upon its arrival. The\n",
    "  queue is empty to start.\n",
    "* 2- For each second (current_second):\n",
    "  * Does a new print task get created? If so, add it to the queue with the current_second\n",
    "    as the timestamp.\n",
    "  * If the printer is not busy and if a task is waiting,\n",
    "  * Remove the next task from the print queue and assign it to the printer.\n",
    "  * Subtract the timestamp from the current_second to compute the waiting time\n",
    "    for that task.\n",
    "  * Append the waiting time for that task to a list for later processing.\n",
    "  * Based on the number of pages in the print task, figure out how much time will\n",
    "    be required.\n",
    "  * The printer now does one second of printing if necessary. It also subtracts one\n",
    "    second from the time required for that task.\n",
    "  * If the task has been completed, in other words the time required has reached zero,\n",
    "    the printer is no longer busy.\n",
    "    \n",
    "* 3- After the simulation is complete, compute the average waiting time from the list of waiting\n",
    "  times generated.    "
   ]
  },
  {
   "cell_type": "code",
   "execution_count": 25,
   "id": "7f82d4c0-1eb6-433a-9545-b6c986a0490c",
   "metadata": {},
   "outputs": [],
   "source": [
    "class Printer:\n",
    "    def __init__(self, ppm):\n",
    "        self.page_rate = ppm\n",
    "        self.current_task = None\n",
    "        self.time_remaining = 0\n",
    "    \n",
    "    def tick(self):\n",
    "        if self.current_task != None:\n",
    "            self.time_remaining = self.time_remaining - 1\n",
    "        if self.time_remaining <= 0:\n",
    "            self.current_task = None\n",
    "    \n",
    "    def busy(self):\n",
    "        if self.current_task != None:\n",
    "            return True\n",
    "        else:\n",
    "            return False\n",
    "        \n",
    "    def start_next(self, new_task):\n",
    "        self.current_task = new_task\n",
    "        self.time_remaining = new_task.get_pages() * 60 / self.page_rate"
   ]
  },
  {
   "cell_type": "code",
   "execution_count": 26,
   "id": "25caff04-037b-442f-84a6-f2507498bd0d",
   "metadata": {},
   "outputs": [],
   "source": [
    "import random\n",
    "\n",
    "class Task:\n",
    "    def __init__(self, time):\n",
    "        self.timestamp = time\n",
    "        self.pages = random.randrange(1, 21)\n",
    "        \n",
    "    def get_stamp(self):\n",
    "        return self.timestamp\n",
    "    \n",
    "    def get_pages(self):\n",
    "        return self.pages\n",
    "    \n",
    "    def wait_time(self, current_time):\n",
    "        return current_time - self.timestamp"
   ]
  },
  {
   "cell_type": "code",
   "execution_count": 30,
   "id": "df9f239a-ff26-493e-9a2a-b60be583bd0a",
   "metadata": {},
   "outputs": [],
   "source": [
    "def simulation(num_seconds, page_per_minute):\n",
    "    lab_printer = Printer(page_per_minute)\n",
    "    print_queue = Queue()\n",
    "    waiting_times = []\n",
    "    \n",
    "    for current_second in range(num_seconds):\n",
    "        if new_print_task():\n",
    "            task = Task(current_second)\n",
    "            print_queue.enqueue(task)\n",
    "        if (not lab_printer.busy()) and (not print_queue.is_empty()):\n",
    "            next_task = print_queue.dequeue()\n",
    "            waiting_times.append(next_task.wait_time(current_second))\n",
    "            lab_printer.start_next(next_task)\n",
    "        lab_printer.tick()\n",
    "    average_wait = sum(waiting_times) / len(waiting_times)\n",
    "    print(\"Average Wait %6.2f secs %3d tasks remaining.\"%(average_wait, print_queue.size()))\n",
    "    \n",
    "    \n",
    "def new_print_task():\n",
    "    num = random.randrange(1, 181)\n",
    "    if num == 180:\n",
    "        return True\n",
    "    else:\n",
    "        return False"
   ]
  },
  {
   "cell_type": "code",
   "execution_count": 31,
   "id": "54b54b4b-5000-498f-82e7-f1b1c35806c5",
   "metadata": {},
   "outputs": [
    {
     "name": "stdout",
     "output_type": "stream",
     "text": [
      "Average Wait  47.67 secs   0 tasks remaining.\n",
      "Average Wait  57.57 secs   0 tasks remaining.\n",
      "Average Wait  60.11 secs   0 tasks remaining.\n",
      "Average Wait 123.17 secs   0 tasks remaining.\n",
      "Average Wait 139.60 secs   0 tasks remaining.\n",
      "Average Wait  80.14 secs   1 tasks remaining.\n",
      "Average Wait  57.00 secs   1 tasks remaining.\n",
      "Average Wait 362.42 secs   1 tasks remaining.\n",
      "Average Wait   8.85 secs   0 tasks remaining.\n",
      "Average Wait 181.00 secs   3 tasks remaining.\n"
     ]
    }
   ],
   "source": [
    "for i in range(10):\n",
    "    simulation(3600, 5)"
   ]
  },
  {
   "cell_type": "code",
   "execution_count": null,
   "id": "fdbe264b-152a-442c-b2a8-8c32329c84cb",
   "metadata": {},
   "outputs": [],
   "source": []
  },
  {
   "cell_type": "code",
   "execution_count": null,
   "id": "175b924b-8714-4f3c-b763-554eb9b05471",
   "metadata": {},
   "outputs": [],
   "source": []
  },
  {
   "cell_type": "code",
   "execution_count": null,
   "id": "47dda868-9e56-4b47-b6e4-c9efdec2e66c",
   "metadata": {},
   "outputs": [],
   "source": []
  },
  {
   "cell_type": "code",
   "execution_count": null,
   "id": "ffb8592d-8d54-412b-b3ba-e6b2e8f65cd4",
   "metadata": {},
   "outputs": [],
   "source": []
  }
 ],
 "metadata": {
  "kernelspec": {
   "display_name": "Python 3",
   "language": "python",
   "name": "python3"
  },
  "language_info": {
   "codemirror_mode": {
    "name": "ipython",
    "version": 3
   },
   "file_extension": ".py",
   "mimetype": "text/x-python",
   "name": "python",
   "nbconvert_exporter": "python",
   "pygments_lexer": "ipython3",
   "version": "3.8.8"
  }
 },
 "nbformat": 4,
 "nbformat_minor": 5
}
