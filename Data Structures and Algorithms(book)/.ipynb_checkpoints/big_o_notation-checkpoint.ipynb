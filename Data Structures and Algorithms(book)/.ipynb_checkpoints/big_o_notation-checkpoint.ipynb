{
 "cells": [
  {
   "cell_type": "code",
   "execution_count": 1,
   "id": "1ece4f93-e85e-45fe-988d-4d852179704e",
   "metadata": {},
   "outputs": [],
   "source": [
    "import time "
   ]
  },
  {
   "cell_type": "code",
   "execution_count": 2,
   "id": "790192ce-5692-4764-9a09-56004fe464e6",
   "metadata": {},
   "outputs": [],
   "source": [
    "def sum_of_n(n):\n",
    "    start = time.time()\n",
    "    sum = 0\n",
    "    for i in range(n+1):\n",
    "        sum += i\n",
    "    end = time.time()\n",
    "    return sum, end-start\n"
   ]
  },
  {
   "cell_type": "code",
   "execution_count": 6,
   "id": "59157a17-ac5b-46c0-bd25-c0ea00c33b9c",
   "metadata": {},
   "outputs": [
    {
     "data": {
      "text/plain": [
       "(500000500000, 0.15914058685302734)"
      ]
     },
     "execution_count": 6,
     "metadata": {},
     "output_type": "execute_result"
    }
   ],
   "source": [
    "sum_of_n(1000000)"
   ]
  },
  {
   "cell_type": "code",
   "execution_count": 9,
   "id": "63bc7143-4138-4254-8acd-c7dabe673142",
   "metadata": {},
   "outputs": [],
   "source": [
    "def anagram(s1, s2):\n",
    "    found = []\n",
    "    for i in(s1):\n",
    "        for j in(s2):\n",
    "            if i == j:\n",
    "                found.append(1)\n",
    "    if len(s1) == len(found):\n",
    "        return True\n",
    "    else:\n",
    "        return False"
   ]
  },
  {
   "cell_type": "code",
   "execution_count": 13,
   "id": "8a3a1ef6-f1d1-4148-8915-562dc0450c0d",
   "metadata": {},
   "outputs": [
    {
     "data": {
      "text/plain": [
       "True"
      ]
     },
     "execution_count": 13,
     "metadata": {},
     "output_type": "execute_result"
    }
   ],
   "source": [
    "anagram('pod', 'dop')"
   ]
  },
  {
   "cell_type": "code",
   "execution_count": 8,
   "id": "ab5d6b85-73c4-47f5-b4e3-1aa903314726",
   "metadata": {},
   "outputs": [
    {
     "data": {
      "text/plain": [
       "3"
      ]
     },
     "execution_count": 8,
     "metadata": {},
     "output_type": "execute_result"
    }
   ],
   "source": [
    "len('ali')"
   ]
  },
  {
   "cell_type": "code",
   "execution_count": null,
   "id": "11d5f966-9a53-46c1-bab3-5309ff4d3b01",
   "metadata": {},
   "outputs": [],
   "source": []
  }
 ],
 "metadata": {
  "kernelspec": {
   "display_name": "Python 3",
   "language": "python",
   "name": "python3"
  },
  "language_info": {
   "codemirror_mode": {
    "name": "ipython",
    "version": 3
   },
   "file_extension": ".py",
   "mimetype": "text/x-python",
   "name": "python",
   "nbconvert_exporter": "python",
   "pygments_lexer": "ipython3",
   "version": "3.8.8"
  }
 },
 "nbformat": 4,
 "nbformat_minor": 5
}
